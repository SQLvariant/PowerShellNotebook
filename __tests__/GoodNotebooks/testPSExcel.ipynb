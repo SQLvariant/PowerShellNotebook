{
    "metadata": {
        "kernelspec": {
            "name": "powershell",
            "display_name": "PowerShell"
        },
        "language_info": {
            "name": "powershell",
            "codemirror_mode": "shell",
            "mimetype": "text/x-sh",
            "file_extension": ".ps1"
        }
    },
    "nbformat_minor": 2,
    "nbformat": 4,
    "cells": [
        {
            "cell_type": "code",
            "source": [
                "#get-service | select -first 10 Status, Name, DisplayName"
            ],
            "metadata": {
                "azdata_cell_guid": "d89e0ca2-444f-474f-92ab-68e2dde95358"
            },
            "outputs": [],
            "execution_count": 0
        },
        {
            "cell_type": "code",
            "source": [
                "get-process | select company, name, handles -first 10"
            ],
            "metadata": {
                "azdata_cell_guid": "57e06f10-6c61-4263-8060-5beaeb7aaedf"
            },
            "outputs": [],
            "execution_count": 0
        },
        {
            "cell_type": "code",
            "source": [
                "1..10 | foreach {[PSCustomObject]@{ID=$_}}"
            ],
            "metadata": {
                "azdata_cell_guid": "1371ba2d-b882-4aa9-97dd-bd8883b70549"
            },
            "outputs": [],
            "execution_count": 0
        }
    ]
}